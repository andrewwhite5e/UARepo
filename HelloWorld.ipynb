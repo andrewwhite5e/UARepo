{
 "cells": [
  {
   "cell_type": "markdown",
   "id": "17a16564-7681-486e-8ff5-52a3007a946c",
   "metadata": {},
   "source": [
    "print(\"Hello, World!\")"
   ]
  },
  {
   "cell_type": "markdown",
   "id": "b01a2639-6c1e-428c-9c2d-02bb015674f6",
   "metadata": {},
   "source": [
    "# My First Markdown Heading"
   ]
  },
  {
   "cell_type": "markdown",
   "id": "34d492ce-a677-4892-afe2-fcdf652533b1",
   "metadata": {},
   "source": [
    "## My Second Markdown Heading"
   ]
  },
  {
   "cell_type": "markdown",
   "id": "1807879b-bb77-4d06-846e-08f10bee8ffc",
   "metadata": {},
   "source": [
    "This is some **bold** text"
   ]
  },
  {
   "cell_type": "markdown",
   "id": "4d636e4c-3169-40da-8b3d-655bfc600d07",
   "metadata": {},
   "source": [
    "1. First Item\n",
    "2. Second Item\n",
    "3. Third Item"
   ]
  },
  {
   "cell_type": "code",
   "execution_count": 9,
   "id": "e947329f-6441-4841-a404-f15f7d6fd6ac",
   "metadata": {},
   "outputs": [],
   "source": [
    "my_var = 5"
   ]
  },
  {
   "cell_type": "code",
   "execution_count": 10,
   "id": "3c3483e9-7c9a-4b73-9962-b50a05353af6",
   "metadata": {},
   "outputs": [],
   "source": [
    "result = my_var *2"
   ]
  },
  {
   "cell_type": "code",
   "execution_count": 12,
   "id": "36c1f4cb-a949-4ebf-8fed-e497a006e5d7",
   "metadata": {},
   "outputs": [
    {
     "name": "stdout",
     "output_type": "stream",
     "text": [
      "10\n"
     ]
    }
   ],
   "source": [
    "print(result)"
   ]
  },
  {
   "cell_type": "code",
   "execution_count": null,
   "id": "cfad6778-fbf7-422e-8390-45a9c23d57b4",
   "metadata": {},
   "outputs": [],
   "source": []
  }
 ],
 "metadata": {
  "kernelspec": {
   "display_name": "Python 3 (ipykernel)",
   "language": "python",
   "name": "python3"
  },
  "language_info": {
   "codemirror_mode": {
    "name": "ipython",
    "version": 3
   },
   "file_extension": ".py",
   "mimetype": "text/x-python",
   "name": "python",
   "nbconvert_exporter": "python",
   "pygments_lexer": "ipython3",
   "version": "3.11.11"
  }
 },
 "nbformat": 4,
 "nbformat_minor": 5
}
